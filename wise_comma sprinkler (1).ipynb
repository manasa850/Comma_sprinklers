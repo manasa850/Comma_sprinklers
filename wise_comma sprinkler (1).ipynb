{
 "cells": [
  {
   "cell_type": "code",
   "execution_count": 6,
   "id": "906787e7",
   "metadata": {},
   "outputs": [
    {
     "name": "stdout",
     "output_type": "stream",
     "text": [
      "please sit spot. sit spot, sit. spot here now here.\n",
      "please, sit spot. sit spot, sit. spot, here now, here.\n"
     ]
    }
   ],
   "source": [
    "def after_word_comma(s):\n",
    "    for i in s:\n",
    "        if i[-1] == ',':\n",
    "            actual_word = i\n",
    "            word = i[:-1:]\n",
    "            ind = s.index(actual_word)\n",
    "            for i in s:\n",
    "                if i == word and (i[-1] != '.' or i[-1] != ','):\n",
    "                    k = i+','\n",
    "                    s = [k if ((i == word) and s[-1] != i) else i for i in s]\n",
    "    p = before_word_comma(s)\n",
    "    s1 = ' '.join(p)\n",
    "    return s1\n",
    "def before_word_comma(s):\n",
    "    l=[]\n",
    "    for i in s:\n",
    "        ind = s.index(i)\n",
    "        if ind>0:\n",
    "            prev_word = s[ind-1]\n",
    "            if ((prev_word[-1] == ',') and (prev_word[-1] != '.') and s[0] != i):\n",
    "                if(i[-1]=='.'):\n",
    "                    i=i[:-1:]\n",
    "                l.append(i)\n",
    "                l.append(i+'.')\n",
    "    indices = [index for index, value in enumerate(s) if value in l]\n",
    "    for i in indices:\n",
    "        prev_word=s[i-1]\n",
    "        s=[(j+',') if j==prev_word and prev_word[-1]!=',' and prev_word[-1]!='.' else j for j in s]\n",
    "    return s\n",
    "s = input().split()\n",
    "a = after_word_comma(s)\n",
    "p=a.split()\n",
    "print(after_word_comma(p))"
   ]
  },
  {
   "cell_type": "code",
   "execution_count": null,
   "id": "71572749",
   "metadata": {},
   "outputs": [],
   "source": []
  }
 ],
 "metadata": {
  "kernelspec": {
   "display_name": "Python 3 (ipykernel)",
   "language": "python",
   "name": "python3"
  },
  "language_info": {
   "codemirror_mode": {
    "name": "ipython",
    "version": 3
   },
   "file_extension": ".py",
   "mimetype": "text/x-python",
   "name": "python",
   "nbconvert_exporter": "python",
   "pygments_lexer": "ipython3",
   "version": "3.9.13"
  }
 },
 "nbformat": 4,
 "nbformat_minor": 5
}
